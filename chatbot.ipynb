{
 "cells": [
  {
   "cell_type": "markdown",
   "id": "8a2ccc75",
   "metadata": {},
   "source": [
    "# Import Library"
   ]
  },
  {
   "cell_type": "code",
   "execution_count": 1,
   "id": "887bdd11",
   "metadata": {},
   "outputs": [],
   "source": [
    "import random\n",
    "import json\n",
    "import pickle\n",
    "import numpy as np\n",
    "import nltk\n",
    "import re\n",
    "from tensorflow.keras.models import Sequential\n",
    "from tensorflow.keras.layers import Dense,Activation,Dropout\n",
    "from tensorflow.keras.optimizers import SGD\n",
    "import tensorflow as tf\n"
   ]
  },
  {
   "cell_type": "markdown",
   "id": "5b0df15d",
   "metadata": {},
   "source": [
    "# Tokenization"
   ]
  },
  {
   "cell_type": "code",
   "execution_count": 2,
   "id": "4e575edd",
   "metadata": {},
   "outputs": [
    {
     "name": "stderr",
     "output_type": "stream",
     "text": [
      "[nltk_data] Downloading package punkt to\n",
      "[nltk_data]     C:\\Users\\GMY\\AppData\\Roaming\\nltk_data...\n",
      "[nltk_data]   Package punkt is already up-to-date!\n",
      "[nltk_data] Downloading package wordnet to\n",
      "[nltk_data]     C:\\Users\\GMY\\AppData\\Roaming\\nltk_data...\n",
      "[nltk_data]   Package wordnet is already up-to-date!\n"
     ]
    }
   ],
   "source": [
    "from nltk.stem import WordNetLemmatizer\n",
    "from nltk.stem.lancaster import LancasterStemmer\n",
    "\n",
    "nltk.download('punkt')\n",
    "nltk.download('wordnet')\n",
    "intents=json.loads(open('C://Users//GMY//Music//chatbot//chatbot.json',encoding=\"utf8\").read())\n",
    "words=[]\n",
    "classes=[]\n",
    "documents=[]\n",
    "ignore_letters=['?','!','.',',']\n",
    "for intent in intents['intents']:\n",
    "    for pattern in intent['patterns']:\n",
    "        word_list=nltk.word_tokenize(pattern)\n",
    "        words.extend(word_list)\n",
    "        documents.append((word_list,intent['tag']))\n",
    "        if intent['tag'] not in classes:\n",
    "            classes.append(intent['tag'])\n",
    "\n",
    "words=sorted(list(set(words)))\n",
    "word=set(words[0])\n",
    "\n",
    "classes=sorted(list(set(classes)))\n"
   ]
  },
  {
   "cell_type": "markdown",
   "id": "9c343b90",
   "metadata": {},
   "source": [
    "# Normalization"
   ]
  },
  {
   "cell_type": "code",
   "execution_count": 3,
   "id": "b2549846",
   "metadata": {},
   "outputs": [],
   "source": [
    "\n",
    "def normalize_char_level_missmatch(input_token):\n",
    "    rep1=re.sub('[ሃኅኃሐሓኻ]','ሀ',input_token)\n",
    "    rep2=re.sub('[ሑኁዅ]','ሁ',rep1)\n",
    "    rep3=re.sub('[ኂሒኺ]','ሂ',rep2)\n",
    "    rep4=re.sub('[ኌሔዄ]','ሄ',rep3)\n",
    "    rep5=re.sub('[ሕኅ]','ህ',rep4)\n",
    "    rep6=re.sub('[ኆሖኾ]','ሆ',rep5)\n",
    "    rep7=re.sub('[ሠ]','ሰ',rep6)\n",
    "    rep8=re.sub('[ሡ]','ሱ',rep7)\n",
    "    rep9=re.sub('[ሢ]','ሲ',rep8)\n",
    "    rep10=re.sub('[ሣ]','ሳ',rep9)\n",
    "    rep11=re.sub('[ሤ]','ሴ',rep10)\n",
    "    rep12=re.sub('[ሥ]','ስ',rep11)\n",
    "    rep13=re.sub('[ሦ]','ሶ',rep12)\n",
    "    rep14=re.sub('[ዓኣዐ]','አ',rep13)\n",
    "    rep15=re.sub('[ዑ]','ኡ',rep14)\n",
    "    rep16=re.sub('[ዒ]','ኢ',rep15)\n",
    "    rep17=re.sub('[ዔ]','ኤ',rep16)\n",
    "    rep18=re.sub('[ዕ]','እ',rep17)\n",
    "    rep19=re.sub('[ዖ]','ኦ',rep18)\n",
    "    rep20=re.sub('[ጸ]','ፀ',rep19)\n",
    "    rep21=re.sub('[ጹ]','ፁ',rep20)\n",
    "    rep22=re.sub('[ጺ]','ፂ',rep21)\n",
    "    rep23=re.sub('[ጻ]','ፃ',rep22)\n",
    "    rep24=re.sub('[ጼ]','ፄ',rep23)\n",
    "    rep25=re.sub('[ጽ]','ፅ',rep24)\n",
    "    rep26=re.sub('[ጾ]','ፆ',rep25)\n",
    "    rep27=re.sub('(ሉ[ዋአ])','ሏ',rep26)\n",
    "    rep28=re.sub('(ሙ[ዋአ])','ሟ',rep27)\n",
    "    rep29=re.sub('(ቱ[ዋአ])','ቷ',rep28)\n",
    "    rep30=re.sub('(ሩ[ዋአ])','ሯ',rep29)\n",
    "    rep31=re.sub('(ሱ[ዋአ])','ሷ',rep30)\n",
    "    rep32=re.sub('(ሹ[ዋአ])','ሿ',rep31)\n",
    "    rep33=re.sub('(ቁ[ዋአ])','ቋ',rep32)\n",
    "    rep34=re.sub('(ቡ[ዋአ])','ቧ',rep33)\n",
    "    rep35=re.sub('(ቹ[ዋአ])','ቿ',rep34)\n",
    "    rep36=re.sub('(ሁ[ዋአ])','ኋ',rep35)\n",
    "    rep37=re.sub('(ኑ[ዋአ])','ኗ',rep36)\n",
    "    rep38=re.sub('(ኙ[ዋአ])','ኟ',rep37)\n",
    "    rep39=re.sub('(ኩ[ዋአ])','ኳ',rep38)\n",
    "    rep40=re.sub('(ዙ[ዋአ])','ዟ',rep39)\n",
    "    rep41=re.sub('(ጉ[ዋአ])','ጓ',rep40)\n",
    "    rep42=re.sub('(ደ[ዋአ])','ዷ',rep41)\n",
    "    rep43=re.sub('(ጡ[ዋአ])','ጧ',rep42)\n",
    "    rep44=re.sub('(ጩ[ዋአ])','ጯ',rep43)\n",
    "    rep45=re.sub('(ጹ[ዋአ])','ጿ',rep44)\n",
    "    rep46=re.sub('(ፉ[ዋአ])','ፏ',rep45)\n",
    "    rep47=re.sub('[ቊ]','ቁ',rep46) #ቁ can be written as ቊ\n",
    "    rep48=re.sub('[ኵ]','ኩ',rep47) #ኩ can be also written as ኵ  \n",
    "    rep49=re.sub('[ሐ]','ሀ',rep48)\n",
    "    rep50=re.sub('[ሑ]','ሁ',rep49)\n",
    "    rep51=re.sub('[ሒ]','ሂ',rep50)\n",
    "    rep52=re.sub('[ሓ]','ሃ',rep51)\n",
    "    rep53=re.sub('[ሔ]','ሄ',rep52)\n",
    "    rep54=re.sub('[ሕ]','ህ',rep53)\n",
    "    rep55=re.sub('[ሖ]','ሆ',rep54)\n",
    "    rep56=re.sub('[?]','',rep55)\n",
    "    return rep56\n",
    "    \n",
    "\n",
    "\n",
    "pickle.dump(words,open('words.pkl','wb'))\n",
    "pickle.dump(classes,open('classes.pkl','wb'))"
   ]
  },
  {
   "cell_type": "markdown",
   "id": "3f25a804",
   "metadata": {},
   "source": [
    "# Preprocessing"
   ]
  },
  {
   "cell_type": "code",
   "execution_count": 9,
   "id": "a771c946",
   "metadata": {},
   "outputs": [
    {
     "name": "stderr",
     "output_type": "stream",
     "text": [
      "C:\\Users\\GMY\\AppData\\Local\\Temp\\ipykernel_12264\\2411667134.py:19: VisibleDeprecationWarning: Creating an ndarray from ragged nested sequences (which is a list-or-tuple of lists-or-tuples-or ndarrays with different lengths or shapes) is deprecated. If you meant to do this, you must specify 'dtype=object' when creating the ndarray.\n",
      "  training=np.array(training)\n"
     ]
    }
   ],
   "source": [
    "training=[]\n",
    "output_empty=[0]*len(classes)\n",
    "\n",
    "for document in documents:\n",
    "     bag=[]\n",
    "     pattern_words=document[0]\n",
    "     \n",
    "     for word in words:\n",
    "        bag.append(1) if word in pattern_words else bag.append(0)\n",
    "        \n",
    "     output_row=list(output_empty)\n",
    "     \n",
    "     output_row[classes.index(document[1])]=1\n",
    "     \n",
    "     training.append([bag,output_row])\n",
    "     \n",
    "random.shuffle(training)\n",
    "\n",
    "training=np.array(training)\n",
    "train_x=list(training[:,0])\n",
    "\n",
    "train_y=list(training[:,1])\n"
   ]
  },
  {
   "cell_type": "markdown",
   "id": "cceb308e",
   "metadata": {},
   "source": [
    "# Model Training"
   ]
  },
  {
   "cell_type": "code",
   "execution_count": 10,
   "id": "c7ce0271",
   "metadata": {},
   "outputs": [],
   "source": [
    "model=Sequential()\n",
    "model.add(Dense(128,input_shape=(len(train_x[0]),),activation='relu'))\n",
    "model.add(Dropout(0.5))\n",
    "model.add(Dense(64,activation='relu'))\n",
    "model.add(Dropout(0.5))\n",
    "model.add(Dense(len(train_y[0]),activation='softmax'))\n",
    "\n",
    "sgd=tf.keras.optimizers.legacy.SGD(learning_rate=0.01,decay=1e-6,momentum=0.9,nesterov=True)\n",
    "model.compile(loss='categorical_crossentropy',optimizer=sgd,metrics=['accuracy'])\n",
    "his=model.fit(np.array(train_x),np.array(train_y),epochs=200,batch_size=5,verbose=0)"
   ]
  },
  {
   "cell_type": "markdown",
   "id": "0c4663d4",
   "metadata": {},
   "source": [
    "# Query "
   ]
  },
  {
   "cell_type": "code",
   "execution_count": 15,
   "id": "2de3f890",
   "metadata": {},
   "outputs": [],
   "source": [
    "words=pickle.load(open('words.pkl','rb'))\n",
    "classes=pickle.load(open('classes.pkl','rb'))\n",
    "\n",
    "\n",
    "def clean_up_sentence(sentences):\n",
    "   sentence_words=nltk.word_tokenize(sentences)\n",
    "   return sentence_words"
   ]
  },
  {
   "cell_type": "code",
   "execution_count": 16,
   "id": "c894e6e6",
   "metadata": {},
   "outputs": [],
   "source": [
    "ERROR_THRESHOLD=0.3\n",
    "def bag_of_words(sentence):\n",
    "    sentence_words=clean_up_sentence(sentence)\n",
    "    bag=[0]*len(words)\n",
    "    \n",
    "    for w in sentence_words:\n",
    "        for i,word in enumerate(words):\n",
    "            if word==w:\n",
    "                bag[i]=1\n",
    "    return np.array(bag)"
   ]
  },
  {
   "cell_type": "markdown",
   "id": "86083f6e",
   "metadata": {},
   "source": [
    "# Model Prediction"
   ]
  },
  {
   "cell_type": "code",
   "execution_count": 17,
   "id": "a65e09cd",
   "metadata": {},
   "outputs": [],
   "source": [
    "def predict_class(sentence):\n",
    "    bow=bag_of_words(sentence)\n",
    "    res=model.predict(np.array([bow]))[0]\n",
    "    error=0.25\n",
    "    result=[[i,r] for i,r in enumerate(res) if r>error]\n",
    "    result.sort(key=lambda x:x[1],reverse=True)\n",
    "    result_list=[]\n",
    "    for r in result:\n",
    "        result_list.append({'intent':classes[r[0]],'probability':str(r[1])})\n",
    "    return result_list"
   ]
  },
  {
   "cell_type": "markdown",
   "id": "6a7d5833",
   "metadata": {},
   "source": [
    "# Get Response"
   ]
  },
  {
   "cell_type": "code",
   "execution_count": 18,
   "id": "ac46247a",
   "metadata": {},
   "outputs": [],
   "source": [
    "def get_response(intents_list,intents_json):\n",
    "    tag=intents_list[0]['intent']\n",
    "    list_of_intents=intents_json['intents']\n",
    "    for i in list_of_intents:\n",
    "        if i['tag']==tag:\n",
    "            result=random.choice(i['responses'])\n",
    "            break;\n",
    "        else:\n",
    "          result=\"none\"\n",
    "    return result"
   ]
  },
  {
   "cell_type": "markdown",
   "id": "71d540d8",
   "metadata": {},
   "source": [
    "# GUI"
   ]
  },
  {
   "cell_type": "code",
   "execution_count": 23,
   "id": "d91de8b4",
   "metadata": {},
   "outputs": [
    {
     "data": {
      "text/plain": [
       "''"
      ]
     },
     "execution_count": 23,
     "metadata": {},
     "output_type": "execute_result"
    }
   ],
   "source": [
    "import tkinter\n",
    "from tkinter import *\n",
    "base = Tk()\n",
    "base.title(\"MentalHealthCare ChatBot\")#by default\n",
    "base.geometry(\"1150x600\")\n",
    "base.resizable(width=FALSE, height=FALSE)\n",
    "base.iconbitmap(\"C://Users//GMY//Downloads//AI DOCUMENTATION//images.ico\")\n",
    "   "
   ]
  },
  {
   "cell_type": "code",
   "execution_count": 20,
   "id": "9dc5672c",
   "metadata": {},
   "outputs": [],
   "source": [
    "# Send Function"
   ]
  },
  {
   "cell_type": "code",
   "execution_count": 24,
   "id": "4586d54d",
   "metadata": {},
   "outputs": [],
   "source": [
    "def send():\n",
    "    msg = EntryBox.get(\"1.0\",'end-1c').strip()\n",
    "    EntryBox.delete(\"0.0\",END)\n",
    "\n",
    "    if msg != '':\n",
    "        ChatLog.config(state=NORMAL)\n",
    "        ChatLog.insert(END, \"እርሶ： \" + msg + '\\n' +'\\n')\n",
    "        ChatLog.config(foreground=\"#442265\", font=(\"Verdana\", 12 ))\n",
    "        mk=normalize_char_level_missmatch(msg)\n",
    "\n",
    "        ints=predict_class(mk)\n",
    "        res=get_response(ints,intents)\n",
    "        ChatLogout.config(state=NORMAL)\n",
    "        ChatLogout.insert(END, '\\n'  +\"ቴራፒስት： \" + res + '\\n' +'\\n' )\n",
    "        ChatLogout.config(foreground=\"#007cc7\", font=(\"Verdana\", 12 ))\n",
    "        ChatLogout.config(state=DISABLED)\n",
    "        ChatLogout.yview(END)\n",
    "        ChatLog.config(state=DISABLED)\n",
    "        ChatLog.yview(END)"
   ]
  },
  {
   "cell_type": "code",
   "execution_count": null,
   "id": "635f09eb",
   "metadata": {},
   "outputs": [],
   "source": [
    "icon = PhotoImage(file='C://Users//GMY//Pictures//icons//sendicon.png')\n",
    "\n",
    "ChatLog = Text(base, bd=0, bg=\"white\", height=\"8\", width=\"50\", font=\"Arial\",)\n",
    "ChatLog.config(state=DISABLED)\n",
    "ChatLogout = Text(base, bd=0, bg=\"white\", height=\"8\", width=\"50\", font=\"Arial\",)\n",
    "ChatLogout.config(state=DISABLED)\n",
    "\n",
    "\n",
    "scrollbar = Scrollbar(base, command=ChatLog.yview, cursor=\"heart\")\n",
    "ChatLog['yscrollcommand'] = scrollbar.set\n",
    "SendButton = Button(base, font=(\"Verdana\",12,'bold'), text=\"Send\", image=icon,width=70,height=60,borderwidth=0,\n",
    "                     \n",
    "                     command= send )\n",
    "EntryBox = Text(base, bd=0,bg=\"#E0E0E0\",width=\"29\", height=\"5\", font=\"Arial\")\n",
    "scrollbar.place(x=1130,y=6, height=600)\n",
    "ChatLog.place(x=6,y=6, height=500, width=430)\n",
    "ChatLogout.place(x=430,y=6, height=500, width=700)\n",
    "\n",
    "EntryBox.place(x=6, y=510, height=60, width=700)\n",
    "SendButton.place(x=735, y=510, height=75 )\n",
    "base.mainloop()"
   ]
  },
  {
   "cell_type": "code",
   "execution_count": null,
   "id": "1ab4b78e",
   "metadata": {},
   "outputs": [],
   "source": []
  }
 ],
 "metadata": {
  "kernelspec": {
   "display_name": "Python 3 (ipykernel)",
   "language": "python",
   "name": "python3"
  },
  "language_info": {
   "codemirror_mode": {
    "name": "ipython",
    "version": 3
   },
   "file_extension": ".py",
   "mimetype": "text/x-python",
   "name": "python",
   "nbconvert_exporter": "python",
   "pygments_lexer": "ipython3",
   "version": "3.9.12"
  }
 },
 "nbformat": 4,
 "nbformat_minor": 5
}
